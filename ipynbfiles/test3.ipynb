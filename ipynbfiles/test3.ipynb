{
  "nbformat": 4,
  "nbformat_minor": 0,
  "metadata": {
    "colab": {
      "provenance": []
    },
    "kernelspec": {
      "name": "python3",
      "display_name": "Python 3"
    },
    "language_info": {
      "name": "python"
    }
  },
  "cells": [
    {
      "cell_type": "code",
      "source": [
        "import pandas\n",
        "\n",
        "def addtwo(arg1,arg2):\n",
        "  arg3 = arg1+arg2;\n",
        "  return arg3\n",
        "\n",
        "addtwo(2,3)"
      ],
      "metadata": {
        "id": "nPtMWloDHfOS"
      },
      "execution_count": null,
      "outputs": []
    }
  ]
}

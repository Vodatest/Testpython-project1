{
 "cells": [
  {
   "cell_type": "code",
   "execution_count": null,
   "metadata": {
    "execution": {
     "iopub.execute_input": "2020-10-05T22:08:28.956134Z",
     "iopub.status.busy": "2020-10-05T22:08:28.954981Z",
     "iopub.status.idle": "2020-10-05T22:08:29.159832Z",
     "shell.execute_reply": "2020-10-05T22:08:29.160674Z"
    }
   },
   "outputs": [],
   "source": [
    "import os\n",
    "import subprocess\n",
    "\n",
    "import nbformat\n",
    "from nbconvert import HTMLExporter\n",
    "from nbconvert.preprocessors import ClearOutputPreprocessor, ExecutePreprocessor\n",
    "from nbconvert.preprocessors import CellExecutionError"
   ]
  },
  {
   "cell_type": "markdown",
   "metadata": {},
   "source": [
    "# Sketching out notebook testing and cleaning"
   ]
  },
  {
   "cell_type": "markdown",
   "metadata": {},
   "source": [
    "## Get filenames of notebooks in the git repo\n",
    "\n",
    "* Using subprocess and `git ls-files` here lets us get just those files/notebooks that have been staged/committed. "
   ]
  },
  {
   "cell_type": "code",
   "execution_count": null,
   "metadata": {
    "execution": {
     "iopub.execute_input": "2020-10-05T22:08:29.168241Z",
     "iopub.status.busy": "2020-10-05T22:08:29.167139Z",
     "iopub.status.idle": "2020-10-05T22:08:29.169643Z",
     "shell.execute_reply": "2020-10-05T22:08:29.170280Z"
    }
   },
   "outputs": [],
   "source": [
    "def save_html(nb, notebook_filename, html_directory):\n",
    "    html_exporter = HTMLExporter()\n",
    "    html_exporter.template_name = 'classic'\n",
    "\n",
    "    html_filename = notebook_filename.replace('.ipynb', '.html')\n",
    "    html_destination = os.path.join(html_directory, html_filename)\n",
    "\n",
    "    with open(html_destination, 'w') as f:\n",
    "        html_out, resources = html_exporter.from_notebook_node(nb)\n",
    "        f.write(html_out)"
   ]
  },
  {
   "cell_type": "code",
   "execution_count": null,
   "metadata": {
    "execution": {
     "iopub.execute_input": "2020-10-05T22:08:29.182914Z",
     "iopub.status.busy": "2020-10-05T22:08:29.181617Z",
     "iopub.status.idle": "2020-10-05T22:08:29.184871Z",
     "shell.execute_reply": "2020-10-05T22:08:29.185463Z"
    }
   },
   "outputs": [],
   "source": [
    "def get_tags_flat(nb):\n",
    "    cells = nb['cells']\n",
    "    tags = [cell['metadata'].get('tags') for cell in cells]\n",
    "    tags = [tag for tag in tags if tag]\n",
    "\n",
    "    tags_flat = [tag for cell_tag in tags for tag in cell_tag]\n",
    "\n",
    "    return tags_flat\n",
    "\n",
    "\n",
    "def process_notebook(notebook_filename, html_directory = 'notebook-html'):\n",
    "    \n",
    "    with open(notebook_filename) as f:\n",
    "        nb = nbformat.read(f, as_version=4)\n",
    "        \n",
    "    ep = ExecutePreprocessor(timeout=600, kernel_name='python3')\n",
    "    clear = ClearOutputPreprocessor()\n",
    "    \n",
    "    html_exporter = HTMLExporter()\n",
    "    html_exporter.template_name = 'classic'\n",
    "\n",
    "    try:\n",
    "        # Check that the notebook runs\n",
    "        ep.preprocess(nb, {'metadata': {'path': ''}})\n",
    "    except CellExecutionError:\n",
    "        out = None\n",
    "        msg = f'Error executing the notebook \"{notebook_filename}\".\\n\\n'\n",
    "        msg += f'See notebook \"{notebook_filename}\" for the traceback.'\n",
    "        #print(msg)\n",
    "        raise\n",
    "    finally:\n",
    "        tags_flat = get_tags_flat(nb)\n",
    "\n",
    "        if 'save_html' in tags_flat:\n",
    "            save_html(nb, notebook_filename, html_directory)\n",
    "            \n",
    "        # Clear notebook outputs and save as .ipynb\n",
    "        cleared = clear.preprocess(nb, {})\n",
    "        with open(notebook_filename, mode='w', encoding='utf-8') as f:\n",
    "            nbformat.write(nb, f)\n",
    "         \n",
    "        \n",
    "    print(f\"Processed {notebook_filename}\")\n",
    "    return\n",
    "    \n",
    "\n",
    "        \n",
    "def process_all_notebooks(remove_fail_test=True):\n",
    "    # Get all files included in the git repository\n",
    "    git_files = (subprocess\n",
    "                 .check_output(\"git ls-files\", shell=True)\n",
    "                 .decode('utf-8')\n",
    "                 .splitlines())\n",
    "\n",
    "    # Get just the notebooks from the git files\n",
    "    notebooks = {fn:fn for fn in git_files if fn.endswith(\".ipynb\")}\n",
    "    \n",
    "    # Remove the notebook that's supposed to fail\n",
    "    if remove_fail_test:\n",
    "        del notebooks['notebook-fails.ipynb']\n",
    "    \n",
    "    # Test each notebook, save it to HTML with outputs, and clear the outputs from the .ipynb file\n",
    "    for notebook in notebooks:\n",
    "        process_notebook(notebook)\n",
    "        \n",
    "    return"
   ]
  },
  {
   "cell_type": "code",
   "execution_count": null,
   "metadata": {
    "execution": {
     "iopub.execute_input": "2020-10-05T22:08:29.192057Z",
     "iopub.status.busy": "2020-10-05T22:08:29.190788Z",
     "iopub.status.idle": "2020-10-05T22:08:29.193466Z",
     "shell.execute_reply": "2020-10-05T22:08:29.194046Z"
    }
   },
   "outputs": [],
   "source": [
    "def get_tags_flat(nb):\n",
    "    cells = nb['cells']\n",
    "    tags = [cell['metadata'].get('tags') for cell in cells]\n",
    "    tags = [tag for tag in tags if tag]\n",
    "\n",
    "    tags_flat = [tag for cell_tag in tags for tag in cell_tag]\n",
    "\n",
    "    return tags_flat\n"
   ]
  },
  {
   "cell_type": "code",
   "execution_count": null,
   "metadata": {},
   "outputs": [],
   "source": []
  }
 ],
 "metadata": {
  "kernelspec": {
   "display_name": "Python 3",
   "language": "python",
   "name": "python3"
  },
  "language_info": {
   "codemirror_mode": {
    "name": "ipython",
    "version": 3
   },
   "file_extension": ".py",
   "mimetype": "text/x-python",
   "name": "python",
   "nbconvert_exporter": "python",
   "pygments_lexer": "ipython3",
   "version": "3.8.5"
  }
 },
 "nbformat": 4,
 "nbformat_minor": 4
}
